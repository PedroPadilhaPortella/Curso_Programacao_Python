{
 "cells": [
  {
   "cell_type": "code",
   "execution_count": 1,
   "id": "hairy-closing",
   "metadata": {},
   "outputs": [],
   "source": [
    "import numpy as np\n",
    "import matplotlib.pyplot as plt"
   ]
  },
  {
   "cell_type": "code",
   "execution_count": 2,
   "id": "dried-oasis",
   "metadata": {},
   "outputs": [],
   "source": [
    "w0 = 0.3\n",
    "w1 = 0.3"
   ]
  },
  {
   "cell_type": "code",
   "execution_count": 3,
   "id": "permanent-hanging",
   "metadata": {},
   "outputs": [],
   "source": [
    "def hipotese(x, w0, w1):\n",
    "    return w0 + w1 * x"
   ]
  },
  {
   "cell_type": "code",
   "execution_count": 4,
   "id": "statistical-argentina",
   "metadata": {},
   "outputs": [
    {
     "data": {
      "text/plain": [
       "0.6"
      ]
     },
     "execution_count": 4,
     "metadata": {},
     "output_type": "execute_result"
    }
   ],
   "source": [
    "hipotese(1, w0, w1)"
   ]
  },
  {
   "cell_type": "code",
   "execution_count": 5,
   "id": "found-double",
   "metadata": {},
   "outputs": [],
   "source": [
    "x = np.arange(-10, 10, step=1)"
   ]
  },
  {
   "cell_type": "code",
   "execution_count": 6,
   "id": "immune-scroll",
   "metadata": {},
   "outputs": [],
   "source": [
    "h = hipotese(x, w0, w1)"
   ]
  },
  {
   "cell_type": "code",
   "execution_count": 7,
   "id": "laughing-extra",
   "metadata": {},
   "outputs": [],
   "source": [
    "lenh = np.arange(0, 20)\n",
    "pontosY = [4, 5, 5]\n",
    "pontosX = [5, 3, 4]"
   ]
  },
  {
   "cell_type": "code",
   "execution_count": 8,
   "id": "qualified-brook",
   "metadata": {},
   "outputs": [
    {
     "data": {
      "text/plain": [
       "[<matplotlib.lines.Line2D at 0x7fd860f8f390>]"
      ]
     },
     "execution_count": 8,
     "metadata": {},
     "output_type": "execute_result"
    },
    {
     "data": {
      "image/png": "[encoded data removed]",
      "text/plain": [
       "<Figure size 432x288 with 1 Axes>"
      ]
     },
     "metadata": {
      "needs_background": "light"
     },
     "output_type": "display_data"
    }
   ],
   "source": [
    "plt.scatter(pontosY, pontosX)\n",
    "plt.title(' Redes Multicamadas - Hipótese')\n",
    "plt.grid(True)\n",
    "plt.plot(lenh, h)"
   ]
  }
 ],
 "metadata": {
  "kernelspec": {
   "display_name": "Python 3",
   "language": "python",
   "name": "python3"
  },
  "language_info": {
   "codemirror_mode": {
    "name": "ipython",
    "version": 3
   },
   "file_extension": ".py",
   "mimetype": "text/x-python",
   "name": "python",
   "nbconvert_exporter": "python",
   "pygments_lexer": "ipython3",
   "version": "3.6.13"
  }
 },
 "nbformat": 4,
 "nbformat_minor": 5
}
